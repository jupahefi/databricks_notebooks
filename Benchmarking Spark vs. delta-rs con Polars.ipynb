{
 "cells": [
  {
   "cell_type": "markdown",
   "metadata": {
    "application/vnd.databricks.v1+cell": {
     "cellMetadata": {
      "byteLimit": 2048000,
      "rowLimit": 10000
     },
     "inputWidgets": {},
     "nuid": "f4c66c61-c31b-4bf3-af6d-cc2e50729dad",
     "showTitle": false,
     "title": ""
    }
   },
   "source": [
    "### 1. Configuración del entorno\n",
    "\n",
    "Asegúrate de tener Databricks configurado y las librerías necesarias instaladas.\n"
   ]
  },
  {
   "cell_type": "code",
   "execution_count": 0,
   "metadata": {
    "application/vnd.databricks.v1+cell": {
     "cellMetadata": {
      "byteLimit": 2048000,
      "rowLimit": 10000
     },
     "inputWidgets": {},
     "nuid": "9ded8dbf-7b0b-4523-b072-b501db25b6b2",
     "showTitle": false,
     "title": ""
    }
   },
   "outputs": [],
   "source": [
    "# Instalar el paquete delta-rs y polars\n",
    "%pip install deltalake polars pyarrow\n",
    "\n",
    "# Instalar el paquete memory_profiler si no está instalado\n",
    "%pip install memory_profiler"
   ]
  },
  {
   "cell_type": "code",
   "execution_count": 0,
   "metadata": {
    "application/vnd.databricks.v1+cell": {
     "cellMetadata": {
      "byteLimit": 2048000,
      "rowLimit": 10000
     },
     "inputWidgets": {},
     "nuid": "010d9d47-defc-47e7-9fe1-162b8d300253",
     "showTitle": false,
     "title": ""
    }
   },
   "outputs": [],
   "source": [
    "dbutils.library.restartPython() "
   ]
  },
  {
   "cell_type": "code",
   "execution_count": 0,
   "metadata": {
    "application/vnd.databricks.v1+cell": {
     "cellMetadata": {
      "byteLimit": 2048000,
      "rowLimit": 10000
     },
     "inputWidgets": {},
     "nuid": "87634dd1-50c7-4694-94ff-5af5daf2d2a5",
     "showTitle": false,
     "title": ""
    }
   },
   "outputs": [],
   "source": [
    "# Define tu SAS token, nombre de cuenta de almacenamiento, nombre del contenedor y la ruta del archivo\n",
    "sas_token = \"sv=2022-11-02&ss=bfqt&srt=sco&sp=rwdlacupyx&se=2024-07-31T09:43:56Z&st=2024-07-04T01:43:56Z&spr=https&sig=pWMy7us1uqd8dXOJAQnhoeV49zhDVtcMbqcrVvLh%2Bec%3D\"\n",
    "storage_account_name = \"cs2100320032141b0ad\"\n",
    "container_name = \"raw\"\n",
    "delta_table_path = \"benchmark_delta_table\"\n",
    "\n",
    "# Configuración del protocolo (abfs o abfss)\n",
    "protocol = \"abfss\"  # Use \"abfs\" para conexiones no seguras\n",
    "\n",
    "# Construir la URL para la carpeta especificada\n",
    "delta_url = f\"{protocol}://{container_name}@{storage_account_name}.dfs.core.windows.net/{delta_table_path}\"\n",
    "\n",
    "# Dar el SAS_TOKEN como opción de almacenamiento\n",
    "storage_options = {\"SAS_TOKEN\": sas_token}\n",
    "\n",
    "print(delta_url.replace(sas_token, \"<SECRET>\"))\n",
    "print(str(storage_options).replace(sas_token, \"<SECRET>\"))"
   ]
  },
  {
   "cell_type": "code",
   "execution_count": 0,
   "metadata": {
    "application/vnd.databricks.v1+cell": {
     "cellMetadata": {
      "byteLimit": 2048000,
      "rowLimit": 10000
     },
     "inputWidgets": {},
     "nuid": "df2b73f5-ad49-454a-b549-eadab4fcc29c",
     "showTitle": false,
     "title": ""
    }
   },
   "outputs": [],
   "source": [
    "from pyspark.sql.functions import col\n",
    "import time\n",
    "import deltalake as dl\n",
    "import polars as pl\n",
    "from memory_profiler import memory_usage\n",
    "from deltalake.writer import write_deltalake"
   ]
  },
  {
   "cell_type": "markdown",
   "metadata": {
    "application/vnd.databricks.v1+cell": {
     "cellMetadata": {
      "byteLimit": 2048000,
      "rowLimit": 10000
     },
     "inputWidgets": {},
     "nuid": "0b29a16d-ba87-417f-9847-0cb8ec48803c",
     "showTitle": false,
     "title": ""
    }
   },
   "source": [
    "### 2. Crear una Delta Table para la prueba\n",
    "\n",
    "Primero, vamos a crear una Delta Table en Databricks que usaremos para las pruebas."
   ]
  },
  {
   "cell_type": "code",
   "execution_count": 0,
   "metadata": {
    "application/vnd.databricks.v1+cell": {
     "cellMetadata": {
      "byteLimit": 2048000,
      "rowLimit": 10000
     },
     "inputWidgets": {},
     "nuid": "a402d99d-edde-4357-a850-795db59b3fcf",
     "showTitle": false,
     "title": ""
    }
   },
   "outputs": [],
   "source": [
    "# Crear datos de prueba y escribir a una Delta Table\n",
    "qty = 10000000\n",
    "main_data = [(i, f\"Name_{i}\") for i in range(qty)]  # 1 millón de filas\n",
    "df = spark.createDataFrame(main_data, [\"id\", \"name\"])\n",
    "\n",
    "# Escribir a una Delta Table en ADLS sin características avanzadas .option(\"delta.enableDeletionVectors\", \"false\")\n",
    "df.write.format(\"delta\").mode(\"overwrite\").option(\"delta.enableDeletionVectors\", \"false\").option(\"delta.enableChangeDataFeed\", \"false\").save(delta_url)"
   ]
  },
  {
   "cell_type": "code",
   "execution_count": 0,
   "metadata": {
    "application/vnd.databricks.v1+cell": {
     "cellMetadata": {
      "byteLimit": 2048000,
      "rowLimit": 10000
     },
     "inputWidgets": {},
     "nuid": "159f8226-82e9-485b-a13f-a0dbe1e3dc13",
     "showTitle": false,
     "title": ""
    }
   },
   "outputs": [],
   "source": [
    "from delta.tables import DeltaTable\n",
    "\n",
    "delta_table = DeltaTable.forPath(spark, delta_url)\n",
    "properties = delta_table.detail().select(\"properties\").collect()\n",
    "print(properties)"
   ]
  },
  {
   "cell_type": "markdown",
   "metadata": {
    "application/vnd.databricks.v1+cell": {
     "cellMetadata": {
      "byteLimit": 2048000,
      "rowLimit": 10000
     },
     "inputWidgets": {},
     "nuid": "416e27df-3706-46ff-a64b-38bc5dc195ea",
     "showTitle": false,
     "title": ""
    }
   },
   "source": [
    "### 3. Benchmark con Spark\n",
    "\n",
    "Realizaremos la lectura y escritura utilizando Spark y mediremos el tiempo y el uso de memoria."
   ]
  },
  {
   "cell_type": "code",
   "execution_count": 0,
   "metadata": {
    "application/vnd.databricks.v1+cell": {
     "cellMetadata": {
      "byteLimit": 2048000,
      "rowLimit": 10000
     },
     "inputWidgets": {},
     "nuid": "7689d9d3-4141-46cb-bbd5-57b104c70ddf",
     "showTitle": false,
     "title": ""
    }
   },
   "outputs": [],
   "source": [
    "# Medir el tiempo de lectura\n",
    "start_time = time.time()\n",
    "df_read = spark.read.format(\"delta\").load(delta_url)\n",
    "read_time_spark = time.time() - start_time\n",
    "\n",
    "# Mostrar el tiempo de lectura\n",
    "print(f\"Tiempo de lectura con Spark: {read_time_spark} segundos\")\n",
    "\n",
    "# Medir el tiempo de escritura\n",
    "start_time = time.time()\n",
    "df_read.write.format(\"delta\").mode(\"overwrite\").save(delta_url + \"_spark_write\")\n",
    "write_time_spark = time.time() - start_time\n",
    "\n",
    "# Mostrar el tiempo de escritura\n",
    "print(f\"Tiempo de escritura con Spark: {write_time_spark} segundos\")"
   ]
  },
  {
   "cell_type": "markdown",
   "metadata": {
    "application/vnd.databricks.v1+cell": {
     "cellMetadata": {
      "byteLimit": 2048000,
      "rowLimit": 10000
     },
     "inputWidgets": {},
     "nuid": "a6050738-1e53-472a-bc71-f53093cbb80e",
     "showTitle": false,
     "title": ""
    }
   },
   "source": [
    "### 4. Benchmark con delta-rs y Polars\n",
    "\n",
    "Para esto, necesitas instalar el paquete `deltalake` que proporciona bindings de delta-rs para Python.\n"
   ]
  },
  {
   "cell_type": "code",
   "execution_count": 0,
   "metadata": {
    "application/vnd.databricks.v1+cell": {
     "cellMetadata": {
      "byteLimit": 2048000,
      "rowLimit": 10000
     },
     "inputWidgets": {},
     "nuid": "af78027b-b6de-4f75-bef3-a731e37538da",
     "showTitle": false,
     "title": ""
    }
   },
   "outputs": [],
   "source": [
    "# Leer la Delta Table usando delta-rs y Polars\n",
    "start_time = time.time()\n",
    "dt = dl.DeltaTable(delta_url, storage_options=storage_options)\n",
    "read_time_delta_rs = time.time() - start_time\n",
    "\n",
    "# Mostrar el tiempo de lectura\n",
    "print(f\"Tiempo de lectura con delta-rs y Polars: {read_time_delta_rs} segundos\")\n",
    "\n",
    "# Crear datos de prueba para escritura\n",
    "data = pl.DataFrame(main_data, schema=[\"id\", \"name\"], orient=\"row\").lazy()\n",
    "\n",
    "# Escribir usando delta-rs y Polars\n",
    "start_time = time.time()\n",
    "write_deltalake(table_or_uri=dt, data=data.collect().to_arrow(), engine=\"rust\", mode=\"append\")\n",
    "write_time_delta_rs = time.time() - start_time\n",
    "\n",
    "# Mostrar el tiempo de escritura\n",
    "print(f\"Tiempo de escritura con delta-rs y Polars: {write_time_delta_rs} segundos\")"
   ]
  },
  {
   "cell_type": "code",
   "execution_count": 0,
   "metadata": {
    "application/vnd.databricks.v1+cell": {
     "cellMetadata": {
      "byteLimit": 2048000,
      "rowLimit": 10000
     },
     "inputWidgets": {},
     "nuid": "5506dc54-8267-41f1-9937-76dfb0b52b37",
     "showTitle": false,
     "title": ""
    }
   },
   "outputs": [],
   "source": [
    "print(f\"\"\"\n",
    "Tiempo de Ejecución del Benchmark:\n",
    "🕒 Tiempo de lectura:\n",
    "  - Spark: {read_time_spark} segundos\n",
    "  - delta-rs y Polars: {read_time_delta_rs} segundos\n",
    "\n",
    "🕒 Tiempo de escritura:\n",
    "  - Spark: {write_time_spark} segundos\n",
    "  - delta-rs y Polars: {write_time_delta_rs} segundos\n",
    "\"\"\")"
   ]
  },
  {
   "cell_type": "markdown",
   "metadata": {
    "application/vnd.databricks.v1+cell": {
     "cellMetadata": {
      "byteLimit": 2048000,
      "rowLimit": 10000
     },
     "inputWidgets": {},
     "nuid": "bc42556c-d6b7-40fb-99a7-e63976841344",
     "showTitle": false,
     "title": ""
    }
   },
   "source": [
    "### 6. Medición de Uso de Memoria\n",
    "\n",
    "Para medir el uso de memoria, puedes utilizar herramientas como `memory_profiler`. Aquí hay un ejemplo de cómo integrarlo:\n"
   ]
  },
  {
   "cell_type": "code",
   "execution_count": 0,
   "metadata": {
    "application/vnd.databricks.v1+cell": {
     "cellMetadata": {
      "byteLimit": 2048000,
      "rowLimit": 10000
     },
     "inputWidgets": {},
     "nuid": "24909532-f787-4d84-bc26-84dae2257c06",
     "showTitle": false,
     "title": ""
    }
   },
   "outputs": [],
   "source": [
    "from memory_profiler import memory_usage\n",
    "\n",
    "# Medir el uso de memoria para lectura con Spark\n",
    "mem_usage_spark_read = memory_usage((spark.read.format(\"delta\").load, (delta_url,)))\n",
    "\n",
    "# Medir el uso de memoria para escritura con Spark\n",
    "mem_usage_spark_write = memory_usage((df_read.write.format(\"delta\").mode(\"overwrite\").save, (delta_url + \"_spark_write\",)))\n",
    "\n",
    "# Medir el uso de memoria para lectura con `deltalake` y Polars\n",
    "def read_delta_rs_polars():\n",
    "    dt = dl.DeltaTable(delta_url, storage_options=storage_options)\n",
    "    arrow_table = dt.to_pyarrow_table()\n",
    "    df_polars = pl.from_arrow(arrow_table).lazy()\n",
    "\n",
    "mem_usage_delta_rs_read = memory_usage(read_delta_rs_polars)\n",
    "\n",
    "# Medir el uso de memoria para escritura con `deltalake` y Polars\n",
    "def write_delta_rs_polars():\n",
    "    write_deltalake(table_or_uri=delta_url, data=data.collect().to_arrow(), mode=\"overwrite\", engine=\"rust\", storage_options=storage_options)\n",
    "\n",
    "mem_usage_delta_rs_write = memory_usage(write_delta_rs_polars)\n",
    "\n",
    "print(f\"\"\"\n",
    "Uso de Memoria del Benchmark:\n",
    "📈 Uso de memoria para lectura (promedio en MiB):\n",
    "  - Spark: {sum(mem_usage_spark_read) / len(mem_usage_spark_read)} MiB\n",
    "  - `deltalake` y Polars: {sum(mem_usage_delta_rs_read) / len(mem_usage_delta_rs_read)} MiB\n",
    "\n",
    "📈 Uso de memoria para escritura (promedio en MiB):\n",
    "  - Spark: {sum(mem_usage_spark_write) / len(mem_usage_spark_write)} MiB\n",
    "  - `deltalake` y Polars: {sum(mem_usage_delta_rs_write) / len(mem_usage_delta_rs_write)} MiB\n",
    "\"\"\")"
   ]
  },
  {
   "cell_type": "markdown",
   "metadata": {
    "application/vnd.databricks.v1+cell": {
     "cellMetadata": {
      "byteLimit": 2048000,
      "rowLimit": 10000
     },
     "inputWidgets": {},
     "nuid": "bd57a3e9-8991-483a-ad7e-eb7cd40a328f",
     "showTitle": false,
     "title": ""
    }
   },
   "source": [
    "### Conclusión\n",
    "\n",
    "Con estos pasos y el código proporcionado, podrás realizar un benchmark comparativo entre Spark y delta-rs en Databricks, midiendo tanto el tiempo como el uso de memoria para las operaciones de lectura y escritura. ¡Espero que esto te sea útil para tus análisis!"
   ]
  },
  {
   "cell_type": "code",
   "execution_count": 0,
   "metadata": {
    "application/vnd.databricks.v1+cell": {
     "cellMetadata": {
      "byteLimit": 2048000,
      "rowLimit": 10000
     },
     "inputWidgets": {},
     "nuid": "d4be3e09-3587-4b63-bd2c-5fe5b8a32842",
     "showTitle": false,
     "title": ""
    }
   },
   "outputs": [],
   "source": [
    "print(f\"\"\"\n",
    "Cantidad de registros del benchmark: {qty}\n",
    "\n",
    "Tiempo de Ejecución del Benchmark:\n",
    "🕒 Tiempo de lectura:\n",
    "  - Spark: {read_time_spark} segundos\n",
    "  - delta-rs y Polars: {read_time_delta_rs} segundos\n",
    "\n",
    "🕒 Tiempo de escritura:\n",
    "  - Spark: {write_time_spark} segundos\n",
    "  - delta-rs y Polars: {write_time_delta_rs} segundos\n",
    "\n",
    "Uso de Memoria del Benchmark:\n",
    "📈 Uso de memoria para lectura (promedio en MiB):\n",
    "  - Spark: {sum(mem_usage_spark_read) / len(mem_usage_spark_read)} MiB\n",
    "  - `deltalake` y Polars: {sum(mem_usage_delta_rs_read) / len(mem_usage_delta_rs_read)} MiB\n",
    "\n",
    "📈 Uso de memoria para escritura (promedio en MiB):\n",
    "  - Spark: {sum(mem_usage_spark_write) / len(mem_usage_spark_write)} MiB\n",
    "  - `deltalake` y Polars: {sum(mem_usage_delta_rs_write) / len(mem_usage_delta_rs_write)} MiB\n",
    "\"\"\")"
   ]
  }
 ],
 "metadata": {
  "application/vnd.databricks.v1+notebook": {
   "dashboards": [],
   "environmentMetadata": null,
   "language": "python",
   "notebookMetadata": {
    "pythonIndentUnit": 4
   },
   "notebookName": "Benchmarking Spark vs. delta-rs con Polars",
   "widgets": {}
  }
 },
 "nbformat": 4,
 "nbformat_minor": 0
}
