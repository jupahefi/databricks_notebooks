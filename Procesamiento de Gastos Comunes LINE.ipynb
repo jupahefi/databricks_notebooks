{
 "cells": [
  {
   "cell_type": "markdown",
   "metadata": {
    "application/vnd.databricks.v1+cell": {
     "cellMetadata": {
      "byteLimit": 2048000,
      "rowLimit": 10000
     },
     "inputWidgets": {},
     "nuid": "87ed7da0-d6ee-4507-a5fc-c7188a3593b2",
     "showTitle": false,
     "title": ""
    }
   },
   "source": [
    "# Procesamiento de archivos PDF con PyPDF2, Pandas y Spark"
   ]
  },
  {
   "cell_type": "markdown",
   "metadata": {
    "application/vnd.databricks.v1+cell": {
     "cellMetadata": {
      "byteLimit": 2048000,
      "rowLimit": 10000
     },
     "inputWidgets": {},
     "nuid": "4da34057-613c-468d-a57b-1d0e68ca05f3",
     "showTitle": false,
     "title": ""
    }
   },
   "source": [
    "## Instalación de librerías\n",
    "### Librerías que se probaron\n",
    "`pip install tabula-py`\n",
    "`pip install pdf2image pdfplumber`\n",
    "`pip install fitz frontend tools`\n",
    "`pip install pdf2html`\n",
    "\n",
    "Finalmente se eligió la librería **PyPDF2** ya que extrae de forma exitoso todo el PDF como String"
   ]
  },
  {
   "cell_type": "code",
   "execution_count": 0,
   "metadata": {
    "application/vnd.databricks.v1+cell": {
     "cellMetadata": {
      "byteLimit": 2048000,
      "rowLimit": 10000
     },
     "inputWidgets": {},
     "nuid": "058bf479-70fb-480f-b40f-11c0fc964a85",
     "showTitle": false,
     "title": ""
    }
   },
   "outputs": [],
   "source": [
    "%pip install PyPDF2 lxml\n",
    "\n",
    "dbutils.library.restartPython()"
   ]
  },
  {
   "cell_type": "markdown",
   "metadata": {
    "application/vnd.databricks.v1+cell": {
     "cellMetadata": {
      "byteLimit": 2048000,
      "rowLimit": 10000
     },
     "inputWidgets": {},
     "nuid": "b5056877-6c0f-49de-89e8-cf0bb19d09da",
     "showTitle": false,
     "title": ""
    }
   },
   "source": [
    "## Solución Funcionando"
   ]
  },
  {
   "cell_type": "code",
   "execution_count": 0,
   "metadata": {
    "application/vnd.databricks.v1+cell": {
     "cellMetadata": {
      "byteLimit": 2048000,
      "rowLimit": 10000
     },
     "inputWidgets": {},
     "nuid": "2958f021-8c19-46d0-bb77-95914736c777",
     "showTitle": false,
     "title": ""
    }
   },
   "outputs": [],
   "source": [
    "import re\n",
    "import PyPDF2\n",
    "import os\n",
    "from datetime import datetime\n",
    "from pyspark.sql.types import StructType, StructField, StringType, IntegerType, FloatType\n",
    "import traceback\n",
    "\n",
    "\"\"\"\n",
    "local_pdf_file_path = \"/tmp/\" + \"Boleta gastos comunes mayo - 2024.pdf\"\n",
    "pdf_document = PyPDF2.PdfReader(open(local_pdf_file_path, \"rb\"))\n",
    "#for pdf_page_num in range(len(pdf_document.pages)):\n",
    "pdf_page = pdf_document.pages[1]\n",
    "pdf_page_text = pdf_page.extract_text()\n",
    "pdf_page_text = pdf_page_text.replace(\"$\", \" $\")\n",
    "print(pdf_page_text)\n",
    "\"\"\"\n",
    "print(1)"
   ]
  },
  {
   "cell_type": "code",
   "execution_count": 0,
   "metadata": {
    "application/vnd.databricks.v1+cell": {
     "cellMetadata": {
      "byteLimit": 2048000,
      "rowLimit": 10000
     },
     "inputWidgets": {},
     "nuid": "af8d05b1-bd8a-40ba-ab5c-905f2371e21d",
     "showTitle": false,
     "title": ""
    }
   },
   "outputs": [],
   "source": [
    "def esta_en_mayusculas(texto: str) -> bool:\n",
    "    return texto.isupper()\n",
    "\n",
    "def is_first_character_digit(s: str) -> bool:\n",
    "    \"\"\"\n",
    "    Verifica si el primer carácter de una cadena es un dígito.\n",
    "\n",
    "    Args:\n",
    "        s (str): La cadena a verificar.\n",
    "\n",
    "    Returns:\n",
    "        bool: True si el primer carácter es un dígito, False en caso contrario.\n",
    "    \"\"\"\n",
    "    return s[0].isdigit()\n",
    "\n",
    "def remove_starting_number(s: str) -> str:\n",
    "    \"\"\"\n",
    "    Elimina el número al comienzo de una cadena.\n",
    "\n",
    "    Args:\n",
    "        s (str): La cadena de entrada.\n",
    "\n",
    "    Returns:\n",
    "        str: La cadena sin el número al comienzo.\n",
    "    \"\"\"\n",
    "    return s.lstrip('0123456789')\n",
    "\n",
    "def is_first_char_dollar(s):\n",
    "    \"\"\"Verifica si el primer carácter del string es el signo $.\"\"\"\n",
    "    return s.strip()[0] == '$' if s.strip() else False"
   ]
  },
  {
   "cell_type": "code",
   "execution_count": 0,
   "metadata": {
    "application/vnd.databricks.v1+cell": {
     "cellMetadata": {
      "byteLimit": 2048000,
      "rowLimit": 10000
     },
     "inputWidgets": {},
     "nuid": "e0f9102d-ea76-41a6-bc54-9cb647e69278",
     "showTitle": false,
     "title": ""
    }
   },
   "outputs": [],
   "source": [
    "# Ruta de los archivos PDF en Azure Blob Storage\n",
    "pdf_files_path = \"abfss://raw@cs2100320032141b0ad.dfs.core.windows.net/gc/\"\n",
    "\n",
    "# Listar archivos\n",
    "archivos = dbutils.fs.ls(pdf_files_path)\n",
    "\n",
    "# Filtrar para incluir solo archivos PDF\n",
    "archivos_pdf = [archivo.path for archivo in archivos if archivo.path.endswith(\".pdf\")]\n",
    "\n",
    "# Crear la tabla HTML\n",
    "html_content = \"<table border='1'>\"\n",
    "html_content += \"<tr><th>periodo</th><th>concepto_principal</th><th>concepto_secundario</th><th>item</th><th>valor_101</th><th>valor_comunidad</th></tr>\"\n",
    "\n",
    "# Diccionario de mapeo de nombres de meses a números de mes\n",
    "meses = {\n",
    "    \"enero\": \"01\",\n",
    "    \"febrero\": \"02\",\n",
    "    \"marzo\": \"03\",\n",
    "    \"abril\": \"04\",\n",
    "    \"mayo\": \"05\",\n",
    "    \"junio\": \"06\",\n",
    "    \"julio\": \"07\",\n",
    "    \"agosto\": \"08\",\n",
    "    \"septiembre\": \"09\",\n",
    "    \"octubre\": \"10\",\n",
    "    \"noviembre\": \"11\",\n",
    "    \"diciembre\": \"12\"\n",
    "}\n",
    "\n",
    "# Expresión regular para extraer el periodo (mes - año) del nombre del archivo\n",
    "regex = r\"(\\w+ - \\d{4})\\.pdf$\"\n",
    "\n",
    "# Recorrer los archivos PDF listados\n",
    "for archivo in archivos_pdf:\n",
    "    nombre_archivo = os.path.basename(archivo)\n",
    "    pdf_file_path = archivo\n",
    "    print(archivo)\n",
    "    print(nombre_archivo)\n",
    "    # Descarga el archivo PDF a un directorio temporal en Databricks\n",
    "    local_pdf_file_path = \"/tmp/\" + nombre_archivo\n",
    "    dbutils.fs.cp(archivo, \"file:\" + local_pdf_file_path)"
   ]
  },
  {
   "cell_type": "code",
   "execution_count": 0,
   "metadata": {
    "application/vnd.databricks.v1+cell": {
     "cellMetadata": {
      "byteLimit": 2048000,
      "rowLimit": 10000
     },
     "inputWidgets": {},
     "nuid": "15604fd0-a0dc-4c83-9590-ac4b41650943",
     "showTitle": false,
     "title": ""
    }
   },
   "outputs": [],
   "source": [
    "# Recorrer los archivos PDF listados\n",
    "for archivo in archivos_pdf:\n",
    "    nombre_archivo = os.path.basename(archivo)\n",
    "    pdf_file_path = archivo\n",
    "\n",
    "    # Extraer periodo y convertirlo formato de fecha\n",
    "    periodo = re.search(regex, archivo)\n",
    "    if periodo:\n",
    "        periodo = periodo.group(1)\n",
    "        mes, anio = periodo.split(\" - \")\n",
    "        fecha = f\"01-{meses[mes.lower()]}-{anio}\"\n",
    "        fecha_formateada = datetime.strptime(fecha, \"%d-%m-%Y\").strftime(\"%Y-%m-%d\")\n",
    "    else:\n",
    "        fecha_formateada = \"No se encontró el periodo\"\n",
    "\n",
    "    # Directorio temporal en Databricks\n",
    "    local_pdf_file_path = \"/tmp/\" + nombre_archivo\n",
    "\n",
    "    # Abrir el archivo PDF con PyPDF2\n",
    "    pdf_document = PyPDF2.PdfReader(open(local_pdf_file_path, \"rb\"))\n",
    "\n",
    "    # Expresión regular para filtrar las líneas deseadas\n",
    "    pattern = re.compile(r'^(.*?)\\s+\\$\\s+([\\d,.]+)\\s+\\$\\s+([\\d,.]+)$')\n",
    "\n",
    "    if fecha_formateada >= '2024-05-01':\n",
    "        #Procesar Egresos con formato nuevo\n",
    "        for index, pdf_page in enumerate(pdf_document.pages):\n",
    "            pdf_page_text = pdf_page.extract_text()\n",
    "            pdf_page_text = pdf_page_text.replace(\"$\", \" $\")\n",
    "            text_rows = pdf_page_text.split('\\n')\n",
    "            category = \"\"\n",
    "            #\"Sin categoría\"\n",
    "            sub_category = \"\"\n",
    "            #\"Sin sub-categoría\"\n",
    "            for row in text_rows:\n",
    "                match = pattern.match(row.strip())\n",
    "                if match:\n",
    "                    if(esta_en_mayusculas(match.group(1))):\n",
    "                        category = match.group(1)\n",
    "                    else:\n",
    "                        item = match.group(1)\n",
    "                        value_101 = float(match.group(2).replace('$', '').replace('.', '').replace(',', '.'))\n",
    "                        value_community = float(match.group(3).replace('$', '').replace('.', '').replace(',', '.'))\n",
    "                        if(is_first_character_digit(item)):\n",
    "                            sub_category = remove_starting_number(item)\n",
    "                            item = remove_starting_number(item)\n",
    "                        html_content += f\"<tr><td>{fecha_formateada}</td><td>{category}</td><td>{sub_category}</td><td>{item}</td><td>{value_101}</td><td>{value_community}</td></tr>\"\n",
    "        #print(f\"Periodo cargado: {periodo}\")\n",
    "\n",
    "#Cerrar la tabla HTML\n",
    "html_content += \"</table>\"\n",
    "print(html_content)\n",
    "\n",
    "#TODO: Procesar Medidores\n",
    "#TODO: Procesar Fondos\n",
    "\n",
    "# Imprimir el contenido HTML\n",
    "#print(html_content)\n"
   ]
  },
  {
   "cell_type": "code",
   "execution_count": 0,
   "metadata": {
    "application/vnd.databricks.v1+cell": {
     "cellMetadata": {
      "byteLimit": 2048000,
      "rowLimit": 10000
     },
     "inputWidgets": {},
     "nuid": "579e2e18-6075-401f-a57c-20269dff5a25",
     "showTitle": false,
     "title": ""
    }
   },
   "outputs": [],
   "source": [
    "import pandas as pd\n",
    "import lxml\n",
    "\n",
    "# Leer la tabla HTML en un DataFrame de Pandas\n",
    "df_pandas = pd.read_html(html_content)[0]\n",
    "\n",
    "# Convertir el DataFrame de Pandas a un DataFrame de Spark\n",
    "df_spark = spark.createDataFrame(df_pandas).drop_duplicates()\n",
    "df_spark.createOrReplaceTempView(\"egresos\")\n",
    "df_spark2 = spark.sql(\"\"\"\n",
    "    with\n",
    "    reparaciones as (\n",
    "        select '2024-05-01', 'CONSUMOS BÁSICOS', 'Enel Distribución Chile S.A.', 'Consumo Eléctrico Enel Mayo Provisión', 3386, 460000 \n",
    "    )\n",
    "    \n",
    "    select \n",
    "        periodo,\n",
    "        concepto_principal,\n",
    "        case\n",
    "            when concepto_secundario = 'Energía Eléctrica'\n",
    "                then 'Enel Distribución Chile S.A.'\n",
    "            when concepto_secundario = 'Suministro de Agua'\n",
    "                then 'Aguas Andinas'\n",
    "            else concepto_secundario\n",
    "        end as concepto_secundario,\n",
    "        item,\n",
    "        valor_101,\n",
    "        valor_comunidad\n",
    "    from egresos\n",
    "    where concepto_secundario != item\n",
    "        and concepto_principal = 'CONSUMOS BÁSICOS'\n",
    "    --union all\n",
    "    --select * from reparaciones\n",
    "    --order by concepto_principal asc\n",
    "\"\"\")\n",
    "\n",
    "df_spark2.write.mode(\"overwrite\").format(\"delta\").saveAsTable(\"unity_catalog.lab.egresos_3\")\n",
    "\n",
    "# Mostrar el DataFrame de Spark\n",
    "display(df_spark2)"
   ]
  },
  {
   "cell_type": "code",
   "execution_count": 0,
   "metadata": {
    "application/vnd.databricks.v1+cell": {
     "cellMetadata": {
      "byteLimit": 2048000,
      "rowLimit": 10000
     },
     "inputWidgets": {},
     "nuid": "88921aa9-c897-4417-a568-63d85c02d352",
     "showTitle": false,
     "title": ""
    }
   },
   "outputs": [],
   "source": [
    "# Definir el esquema\n",
    "schema = StructType([\n",
    "    StructField(\"periodo\", StringType(), True),\n",
    "    StructField(\"concepto_principal\", StringType(), True),\n",
    "    StructField(\"concepto_secundario\", StringType(), True),\n",
    "    StructField(\"item\", StringType(), True),\n",
    "    #StructField(\"n_doc\", StringType(), True),\n",
    "    StructField(\"valor_101\", FloatType(), True),\n",
    "    StructField(\"valor_comunidad\", FloatType(), True)\n",
    "])\n",
    "\n",
    "spark.sql(\"DROP TABLE IF EXISTS unity_catalog.lab.egresos_1\")\n",
    "\n",
    "# Recorrer los archivos PDF listados\n",
    "for archivo in archivos_pdf:\n",
    "    nombre_archivo = os.path.basename(archivo)\n",
    "    pdf_file_path = archivo\n",
    "\n",
    "    # Extraer periodo y convertirlo formato de fecha\n",
    "    periodo = re.search(regex, archivo)\n",
    "    if periodo:\n",
    "        periodo = periodo.group(1)\n",
    "        mes, anio = periodo.split(\" - \")\n",
    "        fecha = f\"01-{meses[mes.lower()]}-{anio}\"\n",
    "        fecha_formateada = datetime.strptime(fecha, \"%d-%m-%Y\").strftime(\"%Y-%m-%d\")\n",
    "    else:\n",
    "        fecha_formateada = \"No se encontró el periodo\"\n",
    "\n",
    "    # Descarga el archivo PDF a un directorio temporal en Databricks\n",
    "    local_pdf_file_path = \"/tmp/\" + nombre_archivo\n",
    "\n",
    "    # Abrir el archivo PDF con PyPDF2\n",
    "    pdf_document = PyPDF2.PdfReader(open(local_pdf_file_path, \"rb\"))\n",
    "\n",
    "    #Procesar Egresos\n",
    "\n",
    "    # Extraer consumos básicos\n",
    "    i = 0\n",
    "    start = 0\n",
    "    end = 0\n",
    "    pdf_text = \"\"\n",
    "    records = []\n",
    "\n",
    "    # Consolida páginas de cada PDF en texto\n",
    "    for index, pdf_page in enumerate(pdf_document.pages):\n",
    "        pdf_page_text = pdf_page.extract_text()\n",
    "        pdf_text += pdf_page_text\n",
    "\n",
    "    text_rows = pdf_text.split('\\n')\n",
    "\n",
    "    while i < len(text_rows):\n",
    "        if text_rows[i] == \"CONSUMOS BÁSICOS\":\n",
    "            start = i + 3\n",
    "        if start > 0 and text_rows[i] == \" \":\n",
    "            end = i\n",
    "            break\n",
    "        i += 1\n",
    "    \n",
    "    if start != 0 and end != 0:\n",
    "        print(f\"{start} and {end}\")\n",
    "\n",
    "        i = start\n",
    "        while i < end:\n",
    "            try:\n",
    "                index = int(text_rows[i])\n",
    "                company = text_rows[i + 1]\n",
    "                description = text_rows[i + 2]\n",
    "                start_index = 3\n",
    "                account = None\n",
    "                if not is_first_char_dollar(text_rows[i + 3]):\n",
    "                    if text_rows[i + start_index] in ['2908569-2', 'Provisionado', '2023','3566908-6 Prov', 'Piscina n°2908569-2 Septiembre', 'n°2908568-4 Septiembre 2023', 'n°2908568-4 Octubre 2023', 'Piscina n°2908569-2 Octubre 2023', '3566908-6','Piscina n°2908569-2 Agosto 2023','n°2908568-4 Agosto 2023','Prov']:\n",
    "                        if text_rows[i + 5] in ['26-10-2023', '25-08-2023', '27-08-2023', '20-09-2023', '30-09-2023']:\n",
    "                            description += \" \" + text_rows[i + 3] + \" \" + text_rows[i + 5]\n",
    "                            account = text_rows[i + 4]\n",
    "                            start_index = 6\n",
    "                        else:\n",
    "                            if text_rows[i + 6] in ['20-09-2023']:\n",
    "                                description += \" \" + text_rows[i + 3] + \" \" + text_rows[i + 4] + \" \" + text_rows[i + 6]\n",
    "                                account = text_rows[i + 5]\n",
    "                                start_index = 7\n",
    "                            else:\n",
    "                                description += \" \" + text_rows[i + 3]\n",
    "                                account = text_rows[i + 4] \n",
    "                                start_index = 5\n",
    "                    else:\n",
    "                        account = text_rows[i + 3]\n",
    "                        start_index = 4\n",
    "                amount1 = float(text_rows[i + start_index].replace('$', '').replace('.', '').replace(',', '.'))\n",
    "                amount2 = float(text_rows[i + start_index + 1].replace('$', '').replace('.', '').replace(',', '.'))\n",
    "                records.append((fecha_formateada, \"CONSUMOS BÁSICOS\", company, description, amount1, amount2))\n",
    "                #records.append((fecha_formateada, \"CONSUMOS BÁSICOS\", company, description, account, amount1, amount2))\n",
    "                i += start_index + 2\n",
    "            except Exception as e:\n",
    "                print(f\"Error processing line {traceback.extract_tb(e.__traceback__)[0].lineno}: {i} - {text_rows[i]} - {e} - start_index: {start_index}\")\n",
    "                break\n",
    "\n",
    "        # Crear el DataFrame\n",
    "        df = spark.createDataFrame(records, schema).drop_duplicates()\n",
    "        df.write.mode(\"append\").format(\"delta\").saveAsTable(\"unity_catalog.lab.egresos_1\")\n",
    "\n",
    "        # Mostrar el DataFrame\n",
    "        print(f\"Periodo cargado: {periodo} - start_index: {start_index}\")\n",
    "        display(df)\n"
   ]
  },
  {
   "cell_type": "code",
   "execution_count": 0,
   "metadata": {
    "application/vnd.databricks.v1+cell": {
     "cellMetadata": {
      "byteLimit": 2048000,
      "implicitDf": true,
      "rowLimit": 10000
     },
     "inputWidgets": {},
     "nuid": "4eee5cdb-e91c-481e-b13e-47dfb235b473",
     "showTitle": false,
     "title": ""
    }
   },
   "outputs": [],
   "source": [
    "%sql\n",
    "select * \n",
    "from unity_catalog.lab.egresos_1"
   ]
  },
  {
   "cell_type": "code",
   "execution_count": 0,
   "metadata": {
    "application/vnd.databricks.v1+cell": {
     "cellMetadata": {
      "byteLimit": 2048000,
      "rowLimit": 10000
     },
     "inputWidgets": {},
     "nuid": "80544af5-9ba6-48e2-b55f-edef817345fa",
     "showTitle": false,
     "title": ""
    }
   },
   "outputs": [],
   "source": [
    "# Definir el esquema\n",
    "schema = StructType([\n",
    "    StructField(\"periodo\", StringType(), True),\n",
    "    StructField(\"concepto_principal\", StringType(), True),\n",
    "    StructField(\"concepto_secundario\", StringType(), True),\n",
    "    StructField(\"item\", StringType(), True),\n",
    "    #StructField(\"n_doc\", StringType(), True),\n",
    "    StructField(\"valor_101\", FloatType(), True),\n",
    "    StructField(\"valor_comunidad\", FloatType(), True)\n",
    "])\n",
    "\n",
    "#spark.sql(\"DROP TABLE IF EXISTS unity_catalog.lab.egresos_2\")\n",
    "\n",
    "# Recorrer los archivos PDF listados\n",
    "for archivo in archivos_pdf:\n",
    "    nombre_archivo = os.path.basename(archivo)\n",
    "    pdf_file_path = archivo\n",
    "\n",
    "    # Extraer periodo y convertirlo formato de fecha\n",
    "    periodo = re.search(regex, archivo)\n",
    "    if periodo:\n",
    "        periodo = periodo.group(1)\n",
    "        mes, anio = periodo.split(\" - \")\n",
    "        fecha = f\"01-{meses[mes.lower()]}-{anio}\"\n",
    "        fecha_formateada = datetime.strptime(fecha, \"%d-%m-%Y\").strftime(\"%Y-%m-%d\")\n",
    "    else:\n",
    "        fecha_formateada = \"No se encontró el periodo\"\n",
    "\n",
    "    # Directorio temporal en Databricks\n",
    "    local_pdf_file_path = \"/tmp/\" + nombre_archivo\n",
    "\n",
    "    # Abrir el archivo PDF con PyPDF2\n",
    "    pdf_document = PyPDF2.PdfReader(open(local_pdf_file_path, \"rb\"))\n",
    "\n",
    "    #Procesar Egresos\n",
    "\n",
    "    # Extraer consumos básicos\n",
    "    i = 0\n",
    "    start = 0\n",
    "    end = 0\n",
    "    pdf_text = \"\"\n",
    "    records = []\n",
    "\n",
    "    # Consolida páginas de cada PDF en texto\n",
    "    for index, pdf_page in enumerate(pdf_document.pages):\n",
    "        pdf_page_text = pdf_page.extract_text()\n",
    "        pdf_text += pdf_page_text\n",
    "\n",
    "    text_rows = pdf_text.split('\\n')\n",
    "\n",
    "    while i < len(text_rows):\n",
    "        if text_rows[i] == \"CONSUMOS BÁSICOS\":\n",
    "            start = i + 3\n",
    "        if start > 0 and text_rows[i] == \" \":\n",
    "            end = i\n",
    "            break\n",
    "        i += 1\n",
    "    \n",
    "    if start != 0 and end != 0 and fecha_formateada == \"2024-04-01\":\n",
    "        print(f\"{start} and {end}\")\n",
    "\n",
    "        i = start\n",
    "        while i < end:\n",
    "            try:\n",
    "                if(is_first_character_digit(text_rows[i])):\n",
    "                    index = int(text_rows[i])\n",
    "                    suma = 3\n",
    "                else:\n",
    "                    index = 1\n",
    "                    suma = 0\n",
    "                company = text_rows[i + 1 + suma]\n",
    "                description = text_rows[i + 2 + suma]\n",
    "                start_index = 3 + suma\n",
    "                account = None\n",
    "                if not is_first_char_dollar(text_rows[i + 3 + suma]):\n",
    "                    account = text_rows[i + start_index]\n",
    "                    start_index = 4 + suma\n",
    "                amount1 = float(text_rows[i + start_index].replace('$', '').replace('.', '').replace(',', '.'))\n",
    "                amount2 = float(text_rows[i + start_index + 1].replace('$', '').replace('.', '').replace(',', '.'))\n",
    "                records.append((fecha_formateada, \"CONSUMOS BÁSICOS\", company, description, amount1, amount2))\n",
    "                #records.append((fecha_formateada, \"CONSUMOS BÁSICOS\", company, description, account, amount1, amount2))\n",
    "                i += start_index + 2\n",
    "            except Exception as e:\n",
    "                print(f\"Error processing line {traceback.extract_tb(e.__traceback__)[0].lineno}: {i} - {text_rows[i]} - {e}\")\n",
    "                break\n",
    "\n",
    "        # Crear el DataFrame\n",
    "        df = spark.createDataFrame(records, schema).drop_duplicates()\n",
    "        df.createOrReplaceTempView(\"egresos\")\n",
    "        df_spark2 = spark.sql(\"\"\"\n",
    "            select \n",
    "                periodo,\n",
    "                concepto_principal,\n",
    "                case\n",
    "                    when concepto_secundario = 'Movistar'\n",
    "                        then 'Telefonía e Internet'\n",
    "                    when concepto_secundario = 'Consumo Agua Jardinería Abril'\n",
    "                        then 'Aguas Andinas'\n",
    "                    else concepto_secundario\n",
    "                end as concepto_secundario,\n",
    "                case\n",
    "                    when concepto_secundario = 'Consumo Agua Jardinería Abril'\n",
    "                        then concepto_secundario\n",
    "                    else item\n",
    "                end as item,\n",
    "                /*case\n",
    "                    when concepto_secundario = 'Consumo Agua Jardinería Abril'\n",
    "                        then item\n",
    "                    else n_doc\n",
    "                end as n_doc,*/\n",
    "                valor_101,\n",
    "                valor_comunidad\n",
    "            from egresos\n",
    "            where concepto_secundario != item\n",
    "        \"\"\")\n",
    "        df_spark2.write.mode(\"overwrite\").format(\"delta\").saveAsTable(\"unity_catalog.lab.egresos_2\")\n",
    "\n",
    "        # Mostrar el DataFrame\n",
    "        print(f\"Periodo cargado: {periodo}\")\n",
    "        display(df_spark2)\n"
   ]
  },
  {
   "cell_type": "code",
   "execution_count": 0,
   "metadata": {
    "application/vnd.databricks.v1+cell": {
     "cellMetadata": {
      "byteLimit": 2048000,
      "implicitDf": true,
      "rowLimit": 10000
     },
     "inputWidgets": {},
     "nuid": "63a7b45a-7edc-48ea-8c69-affa6997df80",
     "showTitle": false,
     "title": ""
    }
   },
   "outputs": [],
   "source": [
    "%sql\n",
    "CREATE OR REPLACE TABLE unity_catalog.lab.egresos_ajustados AS\n",
    "with\n",
    "egresos_3 as (\n",
    "  select * \n",
    "  from unity_catalog.lab.egresos_3\n",
    "),\n",
    "egresos_2 as (\n",
    "  select * \n",
    "  from unity_catalog.lab.egresos_2\n",
    "),\n",
    "egresos_1 as (\n",
    "  select * \n",
    "  from unity_catalog.lab.egresos_1\n",
    "),\n",
    "egresos_concatenados as (\n",
    "  select * from egresos_3\n",
    "  union all\n",
    "  select * from egresos_2\n",
    "  union all\n",
    "  select * from egresos_1\n",
    ")\n",
    "\n",
    "select \n",
    "  periodo, \n",
    "  concepto_principal,\n",
    "  case\n",
    "    when concepto_secundario = 'Enel Distribución Chile S.A.'\n",
    "      then 'Luz'\n",
    "    when concepto_secundario = 'Aguas Andinas'\n",
    "      then 'Agua'\n",
    "    else concepto_secundario\n",
    "  end as concepto_secundario,\n",
    "  item,\n",
    "  valor_101,\n",
    "  valor_comunidad\n",
    "from egresos_concatenados\n",
    "where concepto_secundario not in (\"Telefonía e Internet\")\n",
    "order by periodo desc, concepto_secundario asc, valor_comunidad desc"
   ]
  },
  {
   "cell_type": "code",
   "execution_count": 0,
   "metadata": {
    "application/vnd.databricks.v1+cell": {
     "cellMetadata": {
      "byteLimit": 2048000,
      "implicitDf": true,
      "rowLimit": 10000
     },
     "inputWidgets": {},
     "nuid": "fd9aadb2-33ce-4ea7-8a48-b0b1fbb462c7",
     "showTitle": false,
     "title": ""
    }
   },
   "outputs": [
    {
     "output_type": "display_data",
     "data": {
      "text/plain": [
       "Databricks visualization. Run in Databricks to view."
      ]
     },
     "metadata": {
      "application/vnd.databricks.v1.subcommand+json": {
       "baseErrorDetails": null,
       "bindings": {},
       "collapsed": false,
       "command": "%sql WITH q AS (with\negresos_3 as (\n  select * except (valor_101)\n  from unity_catalog.lab.egresos_3\n),\negresos_2 as (\n  select * except (n_doc)\n  from unity_catalog.lab.egresos_2\n),\negresos_1 as (\n  select * except (n_doc, valor_101)\n  from unity_catalog.lab.egresos_1\n),\negresos_concatenados as (\n  select * from egresos_3\n  union all\n  select * from egresos_2\n  union all\n  select * from egresos_1\n)\n\nselect * \nfrom egresos_concatenados\norder by periodo desc, concepto_secundario asc, valor_comunidad desc) SELECT `concepto_secundario`,SUM(`valor_comunidad`) `column_438d4fc310` FROM q GROUP BY `concepto_secundario`",
       "commandTitle": "Visualization 1",
       "commandType": "auto",
       "commandVersion": 0,
       "commentThread": [],
       "commentsVisible": false,
       "contentSha256Hex": null,
       "customPlotOptions": {
        "redashChart": [
         {
          "key": "type",
          "value": "CHART"
         },
         {
          "key": "options",
          "value": {
           "alignYAxesAtZero": true,
           "coefficient": 1,
           "columnConfigurationMap": {
            "x": {
             "column": "concepto_secundario",
             "id": "column_438d4fc32"
            },
            "y": [
             {
              "column": "valor_comunidad",
              "id": "column_438d4fc310",
              "transform": "SUM"
             }
            ]
           },
           "dateTimeFormat": "DD/MM/YYYY HH:mm",
           "direction": {
            "type": "counterclockwise"
           },
           "error_y": {
            "type": "data",
            "visible": true
           },
           "globalSeriesType": "column",
           "hideXAxis": false,
           "isAggregationOn": true,
           "legend": {
            "traceorder": "normal"
           },
           "missingValuesAsZero": false,
           "numberFormat": "‘0.0a’",
           "percentFormat": "0[.]00%",
           "reverseX": true,
           "series": {
            "error_y": {
             "type": "data",
             "visible": true
            },
            "percentValues": false,
            "stacking": "stack"
           },
           "seriesOptions": {
            "column_438d4fc310": {
             "type": "column",
             "yAxis": 0
            },
            "column_438d4fc34": {
             "type": "column",
             "yAxis": 0
            }
           },
           "showDataLabels": true,
           "sizemode": "diameter",
           "sortX": true,
           "sortY": true,
           "swappedAxes": true,
           "textFormat": "",
           "useAggregationsUi": true,
           "valuesOptions": {},
           "version": 2,
           "xAxis": {
            "labels": {
             "enabled": true
            },
            "title": {
             "text": "Consumos Básicos"
            },
            "type": "-"
           },
           "yAxis": [
            {
             "title": {
              "text": "Egresos acumulados"
             },
             "type": "-"
            },
            {
             "opposite": true,
             "type": "-"
            }
           ]
          }
         }
        ]
       },
       "datasetPreviewNameToCmdIdMap": {},
       "diffDeletes": [],
       "diffInserts": [],
       "displayType": "redashChart",
       "error": null,
       "errorDetails": null,
       "errorSummary": null,
       "errorTraceType": null,
       "finishTime": 0,
       "globalVars": {},
       "guid": "",
       "height": "auto",
       "hideCommandCode": false,
       "hideCommandResult": false,
       "iPythonMetadata": null,
       "inputWidgets": {},
       "isLockedInExamMode": false,
       "latestUser": "a user",
       "latestUserId": null,
       "listResultMetadata": null,
       "metadata": {
        "byteLimit": 2048000,
        "implicitDf": true,
        "rowLimit": 10000
       },
       "nuid": "0405b2ab-005a-47f8-848b-cec6eeacc12a",
       "origId": 0,
       "parentHierarchy": [],
       "pivotAggregation": null,
       "pivotColumns": null,
       "position": 5.9375,
       "resultDbfsErrorMessage": null,
       "resultDbfsStatus": "INLINED_IN_TREE",
       "results": null,
       "showCommandTitle": false,
       "startTime": 0,
       "state": "input",
       "streamStates": {},
       "subcommandOptions": {
        "queryPlan": {
         "groups": [
          {
           "column": "concepto_secundario",
           "type": "column"
          }
         ],
         "selects": [
          {
           "column": "concepto_secundario",
           "type": "column"
          },
          {
           "alias": "column_438d4fc310",
           "args": [
            {
             "column": "valor_comunidad",
             "type": "column"
            }
           ],
           "function": "SUM",
           "type": "function"
          }
         ]
        }
       },
       "submitTime": 0,
       "subtype": "tableResultSubCmd.visualization",
       "tableResultIndex": 0,
       "tableResultSettingsMap": null,
       "useConsistentColors": false,
       "version": "CommandV1",
       "width": "auto",
       "workflows": null,
       "xColumns": null,
       "yColumns": null
      }
     },
     "output_type": "display_data"
    },
    {
     "output_type": "display_data",
     "data": {
      "text/plain": [
       "Databricks visualization. Run in Databricks to view."
      ]
     },
     "metadata": {
      "application/vnd.databricks.v1.subcommand+json": {
       "baseErrorDetails": null,
       "bindings": {},
       "collapsed": false,
       "command": "%sql WITH q AS (with\negresos_3 as (\n  select * except (valor_101)\n  from unity_catalog.lab.egresos_3\n),\negresos_2 as (\n  select * except (n_doc)\n  from unity_catalog.lab.egresos_2\n),\negresos_1 as (\n  select * except (n_doc, valor_101)\n  from unity_catalog.lab.egresos_1\n),\negresos_concatenados as (\n  select * from egresos_3\n  union all\n  select * from egresos_2\n  union all\n  select * from egresos_1\n)\n\nselect * \nfrom egresos_concatenados\norder by periodo desc, concepto_secundario asc, valor_comunidad desc) SELECT `periodo`,SUM(`valor_comunidad`) `column_438d4fc332`,SUM(`valor_comunidad`) `column_438d4fc344` FROM q GROUP BY `periodo`",
       "commandTitle": "Visualization 2",
       "commandType": "auto",
       "commandVersion": 0,
       "commentThread": [],
       "commentsVisible": false,
       "contentSha256Hex": null,
       "customPlotOptions": {
        "redashChart": [
         {
          "key": "type",
          "value": "CHART"
         },
         {
          "key": "options",
          "value": {
           "alignYAxesAtZero": false,
           "coefficient": 1,
           "columnConfigurationMap": {
            "x": {
             "column": "periodo",
             "id": "column_438d4fc339"
            },
            "y": [
             {
              "column": "valor_comunidad",
              "id": "column_438d4fc332",
              "transform": "SUM"
             },
             {
              "column": "valor_comunidad",
              "id": "column_438d4fc344",
              "transform": "SUM"
             }
            ]
           },
           "dateTimeFormat": "DD/MM/YYYY HH:mm",
           "direction": {
            "type": "counterclockwise"
           },
           "error_y": {
            "type": "data",
            "visible": true
           },
           "globalSeriesType": "combo",
           "hideXAxis": false,
           "hideYAxes": false,
           "isAggregationOn": true,
           "legend": {
            "enabled": false,
            "traceorder": "normal"
           },
           "missingValuesAsZero": false,
           "numberFormat": "0.0 a",
           "percentFormat": "0[.]00%",
           "reverseX": false,
           "series": {
            "error_y": {
             "type": "data",
             "visible": true
            },
            "stacking": null
           },
           "seriesOptions": {
            "column_438d4fc332": {
             "name": "Impacto de egresos",
             "type": "column",
             "yAxis": 0
            },
            "column_438d4fc344": {
             "name": "Comportamiento de egresos",
             "type": "line",
             "yAxis": 0
            },
            "valor_comunidad": {
             "type": "line",
             "yAxis": 0
            }
           },
           "showDataLabels": true,
           "sizemode": "diameter",
           "sortX": true,
           "sortY": true,
           "swappedAxes": false,
           "textFormat": "",
           "useAggregationsUi": true,
           "valuesOptions": {},
           "version": 2,
           "xAxis": {
            "labels": {
             "enabled": true
            },
            "title": {
             "text": "Periodo"
            },
            "type": "-"
           },
           "yAxis": [
            {
             "rangeMax": 2500000,
             "title": {
              "text": "Egresos acumulados"
             },
             "type": "-"
            },
            {
             "opposite": true,
             "type": "-"
            }
           ]
          }
         }
        ]
       },
       "datasetPreviewNameToCmdIdMap": {},
       "diffDeletes": [],
       "diffInserts": [],
       "displayType": "redashChart",
       "error": null,
       "errorDetails": null,
       "errorSummary": null,
       "errorTraceType": null,
       "finishTime": 0,
       "globalVars": {},
       "guid": "",
       "height": "auto",
       "hideCommandCode": false,
       "hideCommandResult": false,
       "iPythonMetadata": null,
       "inputWidgets": {},
       "isLockedInExamMode": false,
       "latestUser": "a user",
       "latestUserId": null,
       "listResultMetadata": null,
       "metadata": {
        "byteLimit": 2048000,
        "implicitDf": true,
        "rowLimit": 10000
       },
       "nuid": "26d69f08-b27c-472d-9a6e-27d4e15482e2",
       "origId": 0,
       "parentHierarchy": [],
       "pivotAggregation": null,
       "pivotColumns": null,
       "position": 6.9375,
       "resultDbfsErrorMessage": null,
       "resultDbfsStatus": "INLINED_IN_TREE",
       "results": null,
       "showCommandTitle": false,
       "startTime": 0,
       "state": "input",
       "streamStates": {},
       "subcommandOptions": {
        "queryPlan": {
         "groups": [
          {
           "column": "periodo",
           "type": "column"
          }
         ],
         "selects": [
          {
           "column": "periodo",
           "type": "column"
          },
          {
           "alias": "column_438d4fc332",
           "args": [
            {
             "column": "valor_comunidad",
             "type": "column"
            }
           ],
           "function": "SUM",
           "type": "function"
          },
          {
           "alias": "column_438d4fc344",
           "args": [
            {
             "column": "valor_comunidad",
             "type": "column"
            }
           ],
           "function": "SUM",
           "type": "function"
          }
         ]
        }
       },
       "submitTime": 0,
       "subtype": "tableResultSubCmd.visualization",
       "tableResultIndex": 0,
       "tableResultSettingsMap": null,
       "useConsistentColors": false,
       "version": "CommandV1",
       "width": "auto",
       "workflows": null,
       "xColumns": null,
       "yColumns": null
      }
     },
     "output_type": "display_data"
    }
   ],
   "source": [
    "%sql\n",
    "\n",
    "SELECT * \n",
    "FROM unity_catalog.lab.egresos_ajustados\n",
    "WHERE concepto_secundario NOT IN (\"Telefonía e Internet\")\n",
    "ORDER BY \n",
    "  periodo DESC, \n",
    "  concepto_secundario ASC, \n",
    "  valor_comunidad DESC"
   ]
  },
  {
   "cell_type": "code",
   "execution_count": 0,
   "metadata": {
    "application/vnd.databricks.v1+cell": {
     "cellMetadata": {
      "byteLimit": 2048000,
      "implicitDf": true,
      "rowLimit": 10000
     },
     "inputWidgets": {},
     "nuid": "6a83cb58-6720-4467-a482-3ffb5f7a3821",
     "showTitle": false,
     "title": ""
    }
   },
   "outputs": [
    {
     "output_type": "display_data",
     "data": {
      "text/plain": [
       "Databricks visualization. Run in Databricks to view."
      ]
     },
     "metadata": {
      "application/vnd.databricks.v1.subcommand+json": {
       "baseErrorDetails": null,
       "bindings": {},
       "collapsed": false,
       "command": "%sql WITH q AS (select * \nfrom unity_catalog.lab.egresos_ajustados\nwhere concepto_secundario in (\"Aguas Andinas\")) SELECT `periodo`,SUM(`valor_comunidad`) `column_438d4fc383` FROM q GROUP BY `periodo`",
       "commandTitle": "Visualization 1",
       "commandType": "auto",
       "commandVersion": 0,
       "commentThread": [],
       "commentsVisible": false,
       "contentSha256Hex": null,
       "customPlotOptions": {
        "redashChart": [
         {
          "key": "type",
          "value": "CHART"
         },
         {
          "key": "options",
          "value": {
           "alignYAxesAtZero": true,
           "coefficient": 1,
           "columnConfigurationMap": {
            "x": {
             "column": "periodo",
             "id": "column_438d4fc381"
            },
            "y": [
             {
              "column": "valor_comunidad",
              "id": "column_438d4fc383",
              "transform": "SUM"
             }
            ]
           },
           "dateTimeFormat": "DD/MM/YYYY HH:mm",
           "direction": {
            "type": "counterclockwise"
           },
           "error_y": {
            "type": "data",
            "visible": true
           },
           "globalSeriesType": "line",
           "isAggregationOn": true,
           "legend": {
            "traceorder": "normal"
           },
           "missingValuesAsZero": true,
           "numberFormat": "0.0 a",
           "percentFormat": "0[.]00%",
           "reverseX": false,
           "series": {
            "error_y": {
             "type": "data",
             "visible": true
            },
            "percentValues": false,
            "stacking": null
           },
           "seriesOptions": {
            "column_438d4fc383": {
             "type": "line",
             "yAxis": 0
            }
           },
           "showDataLabels": true,
           "sizemode": "diameter",
           "sortX": true,
           "sortY": true,
           "swappedAxes": false,
           "textFormat": "",
           "useAggregationsUi": true,
           "valuesOptions": {},
           "version": 2,
           "xAxis": {
            "labels": {
             "enabled": true
            },
            "title": {
             "text": "Periodo"
            },
            "type": "-"
           },
           "yAxis": [
            {
             "title": {
              "text": "Egresos Agua"
             },
             "type": "-"
            },
            {
             "opposite": true,
             "type": "-"
            }
           ]
          }
         }
        ]
       },
       "datasetPreviewNameToCmdIdMap": {},
       "diffDeletes": [],
       "diffInserts": [],
       "displayType": "redashChart",
       "error": null,
       "errorDetails": null,
       "errorSummary": null,
       "errorTraceType": null,
       "finishTime": 0,
       "globalVars": {},
       "guid": "",
       "height": "auto",
       "hideCommandCode": false,
       "hideCommandResult": false,
       "iPythonMetadata": null,
       "inputWidgets": {},
       "isLockedInExamMode": false,
       "latestUser": "a user",
       "latestUserId": null,
       "listResultMetadata": null,
       "metadata": {},
       "nuid": "57c11421-1ddf-4699-9acf-f713bc6bd258",
       "origId": 0,
       "parentHierarchy": [],
       "pivotAggregation": null,
       "pivotColumns": null,
       "position": 5.94140625,
       "resultDbfsErrorMessage": null,
       "resultDbfsStatus": "INLINED_IN_TREE",
       "results": null,
       "showCommandTitle": false,
       "startTime": 0,
       "state": "input",
       "streamStates": {},
       "subcommandOptions": {
        "queryPlan": {
         "groups": [
          {
           "column": "periodo",
           "type": "column"
          }
         ],
         "selects": [
          {
           "column": "periodo",
           "type": "column"
          },
          {
           "alias": "column_438d4fc383",
           "args": [
            {
             "column": "valor_comunidad",
             "type": "column"
            }
           ],
           "function": "SUM",
           "type": "function"
          }
         ]
        }
       },
       "submitTime": 0,
       "subtype": "tableResultSubCmd.visualization",
       "tableResultIndex": 0,
       "tableResultSettingsMap": null,
       "useConsistentColors": false,
       "version": "CommandV1",
       "width": "auto",
       "workflows": null,
       "xColumns": null,
       "yColumns": null
      }
     },
     "output_type": "display_data"
    }
   ],
   "source": [
    "%sql\n",
    "select * \n",
    "from unity_catalog.lab.egresos_ajustados\n",
    "where concepto_secundario in (\"Agua\")"
   ]
  },
  {
   "cell_type": "code",
   "execution_count": 0,
   "metadata": {
    "application/vnd.databricks.v1+cell": {
     "cellMetadata": {
      "byteLimit": 2048000,
      "implicitDf": true,
      "rowLimit": 10000
     },
     "inputWidgets": {},
     "nuid": "d58350cb-e247-47fa-a35a-8444aeedb176",
     "showTitle": false,
     "title": ""
    }
   },
   "outputs": [
    {
     "output_type": "display_data",
     "data": {
      "text/plain": [
       "Databricks visualization. Run in Databricks to view."
      ]
     },
     "metadata": {
      "application/vnd.databricks.v1.subcommand+json": {
       "baseErrorDetails": null,
       "bindings": {},
       "collapsed": false,
       "command": "%sql WITH q AS (select * \nfrom unity_catalog.lab.egresos_ajustados\nwhere concepto_secundario in (\"Enel Distribución Chile S.A.\")) SELECT `periodo`,SUM(`valor_comunidad`) `column_438d4fc387` FROM q GROUP BY `periodo`",
       "commandTitle": "Visualization 1",
       "commandType": "auto",
       "commandVersion": 0,
       "commentThread": [],
       "commentsVisible": false,
       "contentSha256Hex": null,
       "customPlotOptions": {
        "redashChart": [
         {
          "key": "type",
          "value": "CHART"
         },
         {
          "key": "options",
          "value": {
           "alignYAxesAtZero": true,
           "coefficient": 1,
           "columnConfigurationMap": {
            "x": {
             "column": "periodo",
             "id": "column_438d4fc385"
            },
            "y": [
             {
              "column": "valor_comunidad",
              "id": "column_438d4fc387",
              "transform": "SUM"
             }
            ]
           },
           "dateTimeFormat": "DD/MM/YYYY HH:mm",
           "direction": {
            "type": "counterclockwise"
           },
           "error_y": {
            "type": "data",
            "visible": true
           },
           "globalSeriesType": "line",
           "isAggregationOn": true,
           "legend": {
            "traceorder": "normal"
           },
           "missingValuesAsZero": true,
           "numberFormat": "0.0 a",
           "percentFormat": "0[.]00%",
           "reverseX": false,
           "series": {
            "error_y": {
             "type": "data",
             "visible": true
            },
            "stacking": null
           },
           "seriesOptions": {
            "column_438d4fc387": {
             "type": "line",
             "yAxis": 0
            }
           },
           "showDataLabels": true,
           "sizemode": "diameter",
           "sortX": true,
           "sortY": true,
           "swappedAxes": false,
           "textFormat": "",
           "useAggregationsUi": true,
           "valuesOptions": {},
           "version": 2,
           "xAxis": {
            "labels": {
             "enabled": true
            },
            "title": {
             "text": "Periodo"
            },
            "type": "-"
           },
           "yAxis": [
            {
             "title": {
              "text": "Egresos Luz"
             },
             "type": "-"
            },
            {
             "opposite": true,
             "type": "-"
            }
           ]
          }
         }
        ]
       },
       "datasetPreviewNameToCmdIdMap": {},
       "diffDeletes": [],
       "diffInserts": [],
       "displayType": "redashChart",
       "error": null,
       "errorDetails": null,
       "errorSummary": null,
       "errorTraceType": null,
       "finishTime": 0,
       "globalVars": {},
       "guid": "",
       "height": "auto",
       "hideCommandCode": false,
       "hideCommandResult": false,
       "iPythonMetadata": null,
       "inputWidgets": {},
       "isLockedInExamMode": false,
       "latestUser": "a user",
       "latestUserId": null,
       "listResultMetadata": null,
       "metadata": {},
       "nuid": "b8b9c29d-8a6f-4e54-bc34-3c1e21ca142f",
       "origId": 0,
       "parentHierarchy": [],
       "pivotAggregation": null,
       "pivotColumns": null,
       "position": 5.9453125,
       "resultDbfsErrorMessage": null,
       "resultDbfsStatus": "INLINED_IN_TREE",
       "results": null,
       "showCommandTitle": false,
       "startTime": 0,
       "state": "input",
       "streamStates": {},
       "subcommandOptions": {
        "queryPlan": {
         "groups": [
          {
           "column": "periodo",
           "type": "column"
          }
         ],
         "selects": [
          {
           "column": "periodo",
           "type": "column"
          },
          {
           "alias": "column_438d4fc387",
           "args": [
            {
             "column": "valor_comunidad",
             "type": "column"
            }
           ],
           "function": "SUM",
           "type": "function"
          }
         ]
        }
       },
       "submitTime": 0,
       "subtype": "tableResultSubCmd.visualization",
       "tableResultIndex": 0,
       "tableResultSettingsMap": null,
       "useConsistentColors": false,
       "version": "CommandV1",
       "width": "auto",
       "workflows": null,
       "xColumns": null,
       "yColumns": null
      }
     },
     "output_type": "display_data"
    }
   ],
   "source": [
    "%sql\n",
    "select * \n",
    "from unity_catalog.lab.egresos_ajustados\n",
    "where concepto_secundario in (\"Luz\")"
   ]
  },
  {
   "cell_type": "code",
   "execution_count": 0,
   "metadata": {
    "application/vnd.databricks.v1+cell": {
     "cellMetadata": {
      "byteLimit": 2048000,
      "implicitDf": true,
      "rowLimit": 10000
     },
     "inputWidgets": {},
     "nuid": "4558c2bb-e8ee-4be4-86b2-cd221d1db3cc",
     "showTitle": false,
     "title": ""
    }
   },
   "outputs": [],
   "source": [
    "%sql\n",
    "--drop table unity_catalog.lab.egresos_2\n",
    "select * from unity_catalog.lab.egresos_2\n",
    "where concepto_secundario not in (\"Telefonía e Internet\")"
   ]
  },
  {
   "cell_type": "code",
   "execution_count": 0,
   "metadata": {
    "application/vnd.databricks.v1+cell": {
     "cellMetadata": {
      "byteLimit": 2048000,
      "implicitDf": true,
      "rowLimit": 10000
     },
     "inputWidgets": {},
     "nuid": "1a1e1a8d-6c96-44ba-b684-ed526b7901d7",
     "showTitle": false,
     "title": ""
    }
   },
   "outputs": [
    {
     "output_type": "display_data",
     "data": {
      "text/plain": [
       "Databricks visualization. Run in Databricks to view."
      ]
     },
     "metadata": {
      "application/vnd.databricks.v1.subcommand+json": {
       "baseErrorDetails": null,
       "bindings": {},
       "collapsed": false,
       "command": "%sql\nselect sum(valor_comunidad) \nfrom unity_catalog.lab.egresos_ajustados\nwhere concepto_secundario not in (\"Telefonía e Internet\")",
       "commandTitle": "Visualization 1",
       "commandType": "auto",
       "commandVersion": 0,
       "commentThread": [],
       "commentsVisible": false,
       "contentSha256Hex": null,
       "customPlotOptions": {
        "redashChart": [
         {
          "key": "type",
          "value": "COUNTER"
         },
         {
          "key": "options",
          "value": {
           "countRow": false,
           "counterColName": "sum(valor_comunidad)",
           "counterLabel": "Egreso Total",
           "formatTargetValue": false,
           "rowNumber": 1,
           "stringDecChar": ".",
           "stringDecimal": 0,
           "stringPrefix": "",
           "stringThouSep": ".",
           "targetRowNumber": 1,
           "tooltipFormat": "0,0.000"
          }
         }
        ]
       },
       "datasetPreviewNameToCmdIdMap": {},
       "diffDeletes": [],
       "diffInserts": [],
       "displayType": "redashChart",
       "error": null,
       "errorDetails": null,
       "errorSummary": null,
       "errorTraceType": null,
       "finishTime": 0,
       "globalVars": {},
       "guid": "",
       "height": "auto",
       "hideCommandCode": false,
       "hideCommandResult": false,
       "iPythonMetadata": null,
       "inputWidgets": {},
       "isLockedInExamMode": false,
       "latestUser": "a user",
       "latestUserId": null,
       "listResultMetadata": null,
       "metadata": {
        "byteLimit": 2048000,
        "implicitDf": true,
        "rowLimit": 10000
       },
       "nuid": "0abef620-d251-4708-a96b-a0650c1ca431",
       "origId": 0,
       "parentHierarchy": [],
       "pivotAggregation": null,
       "pivotColumns": null,
       "position": 5.96875,
       "resultDbfsErrorMessage": null,
       "resultDbfsStatus": "INLINED_IN_TREE",
       "results": null,
       "showCommandTitle": false,
       "startTime": 0,
       "state": "input",
       "streamStates": {},
       "subcommandOptions": {},
       "submitTime": 0,
       "subtype": "tableResultSubCmd.visualization",
       "tableResultIndex": 0,
       "tableResultSettingsMap": null,
       "useConsistentColors": false,
       "version": "CommandV1",
       "width": "auto",
       "workflows": null,
       "xColumns": null,
       "yColumns": null
      }
     },
     "output_type": "display_data"
    }
   ],
   "source": [
    "%sql\n",
    "-- probar nvl()\n",
    "select sum(valor_comunidad) \n",
    "from unity_catalog.lab.egresos_ajustados\n",
    "where concepto_secundario not in (\"Telefonía e Internet\")"
   ]
  },
  {
   "cell_type": "code",
   "execution_count": 0,
   "metadata": {
    "application/vnd.databricks.v1+cell": {
     "cellMetadata": {
      "byteLimit": 2048000,
      "implicitDf": true,
      "rowLimit": 10000
     },
     "inputWidgets": {},
     "nuid": "accd76d0-1cb2-4abd-b69e-37daf7cd3e33",
     "showTitle": false,
     "title": ""
    }
   },
   "outputs": [],
   "source": [
    "%sql\n",
    "select * \n",
    "from unity_catalog.lab.egresos_ajustados\n",
    "where lower(item) like '%provi%'"
   ]
  },
  {
   "cell_type": "code",
   "execution_count": 0,
   "metadata": {
    "application/vnd.databricks.v1+cell": {
     "cellMetadata": {
      "byteLimit": 2048000,
      "rowLimit": 10000
     },
     "inputWidgets": {},
     "nuid": "8dc11ab6-24ca-458b-9ce2-6e1e02b103a6",
     "showTitle": false,
     "title": ""
    }
   },
   "outputs": [
    {
     "output_type": "display_data",
     "data": {
      "text/plain": [
       "Databricks visualization. Run in Databricks to view."
      ]
     },
     "metadata": {
      "application/vnd.databricks.v1.subcommand+json": {
       "baseErrorDetails": null,
       "bindings": {},
       "collapsed": false,
       "command": "%python\n__backend_agg_display_orig = display\n__backend_agg_dfs = []\ndef __backend_agg_display_new(df):\n    __backend_agg_df_modules = [\"pandas.core.frame\", \"databricks.koalas.frame\", \"pyspark.sql.dataframe\", \"pyspark.pandas.frame\", \"pyspark.sql.connect.dataframe\"]\n    if (type(df).__module__ in __backend_agg_df_modules and type(df).__name__ == 'DataFrame') or isinstance(df, list):\n        __backend_agg_dfs.append(df)\n\ndisplay = __backend_agg_display_new\n\ndef __backend_agg_user_code_fn():\n    import base64\n    exec(base64.standard_b64decode(\"ZnJvbSBweXNwYXJrLnNxbCBpbXBvcnQgU3BhcmtTZXNzaW9uCmZyb20gcHlzcGFyay5zcWwuZnVuY3Rpb25zIGltcG9ydCBjb2wsIGxpdCwgZGF0ZV9mb3JtYXQKZnJvbSBweXNwYXJrLnNxbC50eXBlcyBpbXBvcnQgRGF0ZVR5cGUKaW1wb3J0IHBhbmRhcyBhcyBwZAoKIyBDcmVhciB1biBEYXRhRnJhbWUgY29uIGxhcyBmZWNoYXMgZGUgc2VwdGllbWJyZSAyMDIzIGhhc3RhIGVsIG1lcyBhY3R1YWwKc3RhcnRfZGF0ZSA9ICcyMDIzLTA5LTAxJwplbmRfZGF0ZSA9IHBkLnRvX2RhdGV0aW1lKCd0b2RheScpLnN0cmZ0aW1lKCclWS0lbS0lZCcpCgojIEdlbmVyYXIgbGFzIGZlY2hhcwpkYXRlX3JhbmdlID0gcGQuZGF0ZV9yYW5nZShzdGFydD1zdGFydF9kYXRlLCBlbmQ9ZW5kX2RhdGUsIGZyZXE9J01TJykKCiMgQ29udmVydGlyIGVsIHJhbmdvIGRlIGZlY2hhcyBhIHVuIERhdGFGcmFtZSBkZSBTcGFyawpkYXRlc19kZiA9IHNwYXJrLmNyZWF0ZURhdGFGcmFtZShwZC5EYXRhRnJhbWUoZGF0ZV9yYW5nZSwgY29sdW1ucz1bJ3BlcmlvZG8nXSkpCgojIERhcmxlIGZvcm1hdG8gYSBsYXMgZmVjaGFzCmRhdGVzX2RmID0gZGF0ZXNfZGYud2l0aENvbHVtbigicGVyaW9kbyIsIGRhdGVfZm9ybWF0KGNvbCgicGVyaW9kbyIpLCAieXl5eS1NTS0wMSIpKQoKIyBBcXXDrSBlc3TDoSBlbCBEYXRhRnJhbWUgcXVlIHRpZW5lcyBhY3R1YWxtZW50ZSBlbiBgc3FsZGZgCiMgUG9yIGVqZW1wbG86IGVsIERhdGFGcmFtZSBxdWUgZXN0w6FzIHVzYW5kbyBwb2Ryw61hIHNlciBhbGdvIGFzw606CmN1cnJlbnRfZGYgPSBfc3FsZGYgICMgRWwgRGF0YUZyYW1lIGFjdHVhbCBjb24gZGF0b3MKCiMgSGFjZXIgdW4gJ2pvaW4nIGVudHJlIGVsIGNhbGVuZGFyaW8gZ2VuZXJhZG8geSBlbCBEYXRhRnJhbWUgYWN0dWFsCmZpbmFsX2RmID0gZGF0ZXNfZGYuam9pbihjdXJyZW50X2RmLCBvbj0icGVyaW9kbyIsIGhvdz0ibGVmdCIpCgojIFJlZW1wbGF6YXIgbG9zIHZhbG9yZXMgbnVsb3MgY29uIDAgcGFyYSBsYXMgY29sdW1uYXMgcXVlIHF1aWVyZXMgbGxlbmFyIGNvbiAwCmZpbmFsX2RmID0gZmluYWxfZGYuZmlsbG5hKDAsIHN1YnNldD1bInZhbG9yXzEwMSIsICJ2YWxvcl9jb211bmlkYWQiXSkKCiMgTW9zdHJhciBlbCByZXN1bHRhZG8gZmluYWwKZGlzcGxheShmaW5hbF9kZik=\").decode())\n\ntry:\n    # run user code\n    __backend_agg_user_code_fn()\n\n    #reset display function\n    display = __backend_agg_display_orig\n\n    if len(__backend_agg_dfs) > 0:\n        # create a temp view\n        if type(__backend_agg_dfs[0]).__module__ == \"databricks.koalas.frame\":\n            # koalas dataframe\n            __backend_agg_dfs[0].to_spark().createOrReplaceTempView(\"DatabricksView498d201\")\n        elif type(__backend_agg_dfs[0]).__module__ == \"pandas.core.frame\" or isinstance(__backend_agg_dfs[0], list):\n            # pandas dataframe\n            spark.createDataFrame(__backend_agg_dfs[0]).createOrReplaceTempView(\"DatabricksView498d201\")\n        else:\n            __backend_agg_dfs[0].createOrReplaceTempView(\"DatabricksView498d201\")\n        #run backend agg\n        display(spark.sql(\"\"\"WITH q AS (select * from DatabricksView498d201) SELECT `periodo`,SUM(`valor_comunidad`) `column_803901a66`,SUM(`valor_comunidad`) `column_803901a610` FROM q GROUP BY `periodo`\"\"\"))\n    else:\n        displayHTML(\"dataframe no longer exists. If you're using dataframe.display(), use display(dataframe) instead.\")\n\n\nfinally:\n    spark.sql(\"drop view if exists DatabricksView498d201\")\n    display = __backend_agg_display_orig\n    del __backend_agg_display_new\n    del __backend_agg_display_orig\n    del __backend_agg_dfs\n    del __backend_agg_user_code_fn\n\n",
       "commandTitle": "Visualization 1",
       "commandType": "auto",
       "commandVersion": 0,
       "commentThread": [],
       "commentsVisible": false,
       "contentSha256Hex": null,
       "customPlotOptions": {
        "redashChart": [
         {
          "key": "type",
          "value": "CHART"
         },
         {
          "key": "options",
          "value": {
           "alignYAxesAtZero": false,
           "coefficient": 1,
           "columnConfigurationMap": {
            "x": {
             "column": "periodo",
             "id": "column_803901a64"
            },
            "y": [
             {
              "column": "valor_comunidad",
              "id": "column_803901a66",
              "transform": "SUM"
             },
             {
              "column": "valor_comunidad",
              "id": "column_803901a610",
              "transform": "SUM"
             }
            ]
           },
           "dateTimeFormat": "DD/MM/YYYY HH:mm",
           "direction": {
            "type": "counterclockwise"
           },
           "error_y": {
            "type": "data",
            "visible": true
           },
           "globalSeriesType": "combo",
           "hideYAxes": false,
           "isAggregationOn": true,
           "legend": {
            "enabled": false,
            "traceorder": "normal"
           },
           "missingValuesAsZero": true,
           "numberFormat": "0.0 a",
           "percentFormat": "0[.]00%",
           "series": {
            "error_y": {
             "type": "data",
             "visible": true
            },
            "stacking": null
           },
           "seriesOptions": {
            "column_803901a610": {
             "name": "Comportamiento provisiones",
             "type": "line",
             "yAxis": 0
            },
            "column_803901a66": {
             "name": "Egreso en provisiones",
             "type": "column",
             "yAxis": 0
            }
           },
           "showDataLabels": true,
           "sizemode": "diameter",
           "sortX": true,
           "sortY": true,
           "swappedAxes": false,
           "textFormat": "",
           "useAggregationsUi": true,
           "valuesOptions": {},
           "version": 2,
           "xAxis": {
            "labels": {
             "enabled": true
            },
            "title": {
             "text": "Periodo"
            },
            "type": "-"
           },
           "yAxis": [
            {
             "rangeMax": 1000000,
             "title": {
              "text": "Provisión"
             },
             "type": "-"
            },
            {
             "opposite": true,
             "title": {
              "text": null
             },
             "type": "-"
            }
           ]
          }
         }
        ]
       },
       "datasetPreviewNameToCmdIdMap": {},
       "diffDeletes": [],
       "diffInserts": [],
       "displayType": "redashChart",
       "error": null,
       "errorDetails": null,
       "errorSummary": null,
       "errorTraceType": null,
       "finishTime": 0,
       "globalVars": {},
       "guid": "",
       "height": "auto",
       "hideCommandCode": false,
       "hideCommandResult": false,
       "iPythonMetadata": null,
       "inputWidgets": {},
       "isLockedInExamMode": false,
       "latestUser": "a user",
       "latestUserId": null,
       "listResultMetadata": null,
       "metadata": {},
       "nuid": "8b54f971-a5e8-474c-8cff-e6243561a29c",
       "origId": 0,
       "parentHierarchy": [],
       "pivotAggregation": null,
       "pivotColumns": null,
       "position": 7.0,
       "resultDbfsErrorMessage": null,
       "resultDbfsStatus": "INLINED_IN_TREE",
       "results": null,
       "showCommandTitle": false,
       "startTime": 0,
       "state": "input",
       "streamStates": {},
       "subcommandOptions": {
        "queryPlan": {
         "groups": [
          {
           "column": "periodo",
           "type": "column"
          }
         ],
         "selects": [
          {
           "column": "periodo",
           "type": "column"
          },
          {
           "alias": "column_803901a66",
           "args": [
            {
             "column": "valor_comunidad",
             "type": "column"
            }
           ],
           "function": "SUM",
           "type": "function"
          },
          {
           "alias": "column_803901a610",
           "args": [
            {
             "column": "valor_comunidad",
             "type": "column"
            }
           ],
           "function": "SUM",
           "type": "function"
          }
         ]
        }
       },
       "submitTime": 0,
       "subtype": "tableResultSubCmd.visualization",
       "tableResultIndex": 0,
       "tableResultSettingsMap": null,
       "useConsistentColors": false,
       "version": "CommandV1",
       "width": "auto",
       "workflows": null,
       "xColumns": null,
       "yColumns": null
      }
     },
     "output_type": "display_data"
    }
   ],
   "source": [
    "from pyspark.sql import SparkSession\n",
    "from pyspark.sql.functions import col, lit, date_format\n",
    "from pyspark.sql.types import DateType\n",
    "import pandas as pd\n",
    "\n",
    "# Crear un DataFrame con las fechas de septiembre 2023 hasta el mes actual\n",
    "start_date = '2023-09-01'\n",
    "end_date = pd.to_datetime('today').strftime('%Y-%m-%d')\n",
    "\n",
    "# Generar las fechas\n",
    "date_range = pd.date_range(start=start_date, end=end_date, freq='MS')\n",
    "\n",
    "# Convertir el rango de fechas a un DataFrame de Spark\n",
    "dates_df = spark.createDataFrame(pd.DataFrame(date_range, columns=['periodo']))\n",
    "\n",
    "# Darle formato a las fechas\n",
    "dates_df = dates_df.withColumn(\"periodo\", date_format(col(\"periodo\"), \"yyyy-MM-01\"))\n",
    "\n",
    "# Aquí está el DataFrame que tienes actualmente en `sqldf`\n",
    "# Por ejemplo: el DataFrame que estás usando podría ser algo así:\n",
    "current_df = _sqldf  # El DataFrame actual con datos\n",
    "\n",
    "# Hacer un 'join' entre el calendario generado y el DataFrame actual\n",
    "final_df = dates_df.join(current_df, on=\"periodo\", how=\"left\")\n",
    "\n",
    "# Reemplazar los valores nulos con 0 para las columnas que quieres llenar con 0\n",
    "final_df = final_df.fillna(0, subset=[\"valor_101\", \"valor_comunidad\"])\n",
    "\n",
    "# Mostrar el resultado final\n",
    "display(final_df)"
   ]
  }
 ],
 "metadata": {
  "application/vnd.databricks.v1+notebook": {
   "dashboards": [
    {
     "elements": [
      {
       "dashboardResultIndex": null,
       "elementNUID": "26d69f08-b27c-472d-9a6e-27d4e15482e2",
       "elementType": "command",
       "guid": "19012860-fb93-4f0c-8bfe-ec5e8b125f91",
       "options": {
        "autoScaleImg": false,
        "scale": 0,
        "showTitle": true,
        "title": "Comportamiento de Consumo",
        "titleAlign": "center"
       },
       "position": {
        "height": 8,
        "width": 24,
        "x": 0,
        "y": 6,
        "z": null
       },
       "resultIndex": null
      },
      {
       "dashboardResultIndex": null,
       "elementNUID": "0405b2ab-005a-47f8-848b-cec6eeacc12a",
       "elementType": "command",
       "guid": "1ff78d88-faaa-4cbf-9771-e461d80ebf21",
       "options": null,
       "position": {
        "height": 6,
        "width": 12,
        "x": 12,
        "y": 0,
        "z": null
       },
       "resultIndex": null
      },
      {
       "dashboardResultIndex": null,
       "elementNUID": "b8b9c29d-8a6f-4e54-bc34-3c1e21ca142f",
       "elementType": "command",
       "guid": "379c5eb3-4cd5-494f-b6ab-9ac355aa108f",
       "options": {
        "autoScaleImg": false,
        "scale": 0,
        "showTitle": true,
        "title": "Luz",
        "titleAlign": "center"
       },
       "position": {
        "height": 8,
        "width": 12,
        "x": 12,
        "y": 14,
        "z": null
       },
       "resultIndex": null
      },
      {
       "dashboardResultIndex": 0,
       "elementNUID": "fd9aadb2-33ce-4ea7-8a48-b0b1fbb462c7",
       "elementType": "command",
       "guid": "449de889-2303-46da-a589-4a708ba9108c",
       "options": null,
       "position": {
        "height": 22,
        "width": 24,
        "x": 0,
        "y": 30,
        "z": null
       },
       "resultIndex": null
      },
      {
       "dashboardResultIndex": null,
       "elementNUID": "8b54f971-a5e8-474c-8cff-e6243561a29c",
       "elementType": "command",
       "guid": "5488e2ae-d1c2-4e24-b397-66d62c93fb79",
       "options": {
        "autoScaleImg": false,
        "scale": 0,
        "showTitle": true,
        "title": "Comportamiento de Provisión",
        "titleAlign": "center"
       },
       "position": {
        "height": 8,
        "width": 24,
        "x": 0,
        "y": 22,
        "z": null
       },
       "resultIndex": null
      },
      {
       "dashboardResultIndex": null,
       "elementNUID": "57c11421-1ddf-4699-9acf-f713bc6bd258",
       "elementType": "command",
       "guid": "8760805c-875b-46d0-ab12-edc53806d0c8",
       "options": {
        "autoScaleImg": false,
        "scale": 0,
        "showTitle": true,
        "title": "Agua",
        "titleAlign": "center"
       },
       "position": {
        "height": 8,
        "width": 12,
        "x": 0,
        "y": 14,
        "z": null
       },
       "resultIndex": null
      },
      {
       "dashboardResultIndex": null,
       "elementNUID": "0abef620-d251-4708-a96b-a0650c1ca431",
       "elementType": "command",
       "guid": "b09a74b5-bba0-4f99-94b1-4cbf1f85b399",
       "options": {
        "autoScaleImg": false,
        "scale": 0,
        "showRunButton": true,
        "showTitle": false,
        "titleAlign": "center"
       },
       "position": {
        "height": 6,
        "width": 12,
        "x": 0,
        "y": 0,
        "z": null
       },
       "resultIndex": null
      }
     ],
     "globalVars": {},
     "guid": "",
     "layoutOption": {
      "grid": true,
      "stack": false
     },
     "nuid": "ee68e8d1-ad84-48fa-bd8c-4ab7ed068d02",
     "origId": 330003065438727,
     "title": "Egresos de Consumos Básicos",
     "version": "DashboardViewV1",
     "width": 1024
    }
   ],
   "environmentMetadata": null,
   "language": "python",
   "notebookMetadata": {
    "mostRecentlyExecutedCommandWithImplicitDF": {
     "commandId": 330003065438724,
     "dataframes": [
      "_sqldf"
     ]
    },
    "pythonIndentUnit": 4
   },
   "notebookName": "Procesamiento de Gastos Comunes LINE",
   "widgets": {}
  }
 },
 "nbformat": 4,
 "nbformat_minor": 0
}
