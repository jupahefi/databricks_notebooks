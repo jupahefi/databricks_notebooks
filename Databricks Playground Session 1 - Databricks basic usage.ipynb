{
 "cells": [
  {
   "cell_type": "code",
   "execution_count": 0,
   "metadata": {
    "application/vnd.databricks.v1+cell": {
     "cellMetadata": {
      "byteLimit": 2048000,
      "rowLimit": 10000
     },
     "inputWidgets": {},
     "nuid": "26effca5-13e3-4d8f-86d5-cb0f16aca0b3",
     "showTitle": false,
     "title": ""
    }
   },
   "outputs": [],
   "source": [
    "path: str = \"abfss://raw@cs2100320032141b0ad.dfs.core.windows.net/\"\n",
    "\n",
    "files = dbutils.fs.ls(path)\n",
    "display(files)"
   ]
  },
  {
   "cell_type": "code",
   "execution_count": 0,
   "metadata": {
    "application/vnd.databricks.v1+cell": {
     "cellMetadata": {
      "byteLimit": 2048000,
      "rowLimit": 10000
     },
     "inputWidgets": {},
     "nuid": "8b58b0f4-e520-4f6b-ade0-f14774cda186",
     "showTitle": false,
     "title": ""
    }
   },
   "outputs": [],
   "source": [
    "df_athletes = spark.read.csv(\"abfss://raw@cs2100320032141b0ad.dfs.core.windows.net/Athletes.csv\", header=\"true\")\n",
    "\n",
    "display(df_athletes)"
   ]
  },
  {
   "cell_type": "code",
   "execution_count": 0,
   "metadata": {
    "application/vnd.databricks.v1+cell": {
     "cellMetadata": {
      "byteLimit": 2048000,
      "rowLimit": 10000
     },
     "inputWidgets": {},
     "nuid": "0f47670d-f3eb-4b42-84b8-f0bc10ce1374",
     "showTitle": false,
     "title": ""
    }
   },
   "outputs": [],
   "source": [
    "df_athletes.createOrReplaceTempView(\"athletes\")"
   ]
  },
  {
   "cell_type": "code",
   "execution_count": 0,
   "metadata": {
    "application/vnd.databricks.v1+cell": {
     "cellMetadata": {
      "byteLimit": 2048000,
      "implicitDf": true,
      "rowLimit": 10000
     },
     "inputWidgets": {},
     "nuid": "329ced21-1415-46b9-aec2-05e77302b995",
     "showTitle": false,
     "title": ""
    }
   },
   "outputs": [],
   "source": [
    "%sql\n",
    "create external table if not exists unity_catalog.lab.athlete_spain\n",
    "using DELTA\n",
    "location 'abfss://staging@cs2100320032141b0ad.dfs.core.windows.net/lab/athletes/spain' as\n",
    "select * from athletes \n",
    "--where Country = 'Spain'"
   ]
  },
  {
   "cell_type": "code",
   "execution_count": 0,
   "metadata": {
    "application/vnd.databricks.v1+cell": {
     "cellMetadata": {
      "byteLimit": 2048000,
      "implicitDf": true,
      "rowLimit": 10000
     },
     "inputWidgets": {},
     "nuid": "560d60a1-74a7-4d5f-be54-09b20fecce66",
     "showTitle": false,
     "title": ""
    }
   },
   "outputs": [],
   "source": [
    "%sql\n",
    "select * from unity_catalog.lab.athletes where Country = 'Spain'\n"
   ]
  },
  {
   "cell_type": "code",
   "execution_count": 0,
   "metadata": {
    "application/vnd.databricks.v1+cell": {
     "cellMetadata": {
      "byteLimit": 2048000,
      "rowLimit": 10000
     },
     "inputWidgets": {},
     "nuid": "88d4b64b-02ab-4561-841c-13fc94dd7a4e",
     "showTitle": false,
     "title": ""
    }
   },
   "outputs": [],
   "source": [
    "%ls"
   ]
  }
 ],
 "metadata": {
  "application/vnd.databricks.v1+notebook": {
   "dashboards": [],
   "environmentMetadata": null,
   "language": "python",
   "notebookMetadata": {
    "mostRecentlyExecutedCommandWithImplicitDF": {
     "commandId": 1797209581424731,
     "dataframes": [
      "_sqldf"
     ]
    },
    "pythonIndentUnit": 4
   },
   "notebookName": "Databricks Playground Session 1 - Databricks basic usage",
   "widgets": {}
  }
 },
 "nbformat": 4,
 "nbformat_minor": 0
}
