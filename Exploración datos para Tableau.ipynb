{
 "cells": [
  {
   "cell_type": "code",
   "execution_count": 0,
   "metadata": {
    "application/vnd.databricks.v1+cell": {
     "cellMetadata": {
      "byteLimit": 2048000,
      "rowLimit": 10000
     },
     "inputWidgets": {},
     "nuid": "de8b379d-38eb-4205-a98b-019a8ed20bb1",
     "showTitle": false,
     "title": ""
    }
   },
   "outputs": [],
   "source": [
    "#weather_spark_df = spark.read.option(\"header\", \"true\").csv(\"abfss://raw@cs2100320032141b0ad.dfs.core.windows.net/weatherAUS.csv\")\n",
    "#df_spark_df = spark.read.option(\"header\", \"true\").csv(\"abfss://raw@cs2100320032141b0ad.dfs.core.windows.net/df.csv\")\n",
    "#df_test_spark_df = spark.read.option(\"header\", \"true\").csv(\"abfss://raw@cs2100320032141b0ad.dfs.core.windows.net/df_test.csv\")\n",
    "#df_resultados = spark.read.option(\"header\", \"true\").option(\"sep\", \";\").csv(\"abfss://raw@cs2100320032141b0ad.dfs.core.windows.net/anime/salida-anime-2017-2019.csv\")\n",
    "df_resultados = spark.read.option(\"header\", \"true\") \\\n",
    "                           .option(\"sep\", \";\") \\\n",
    "                           .option(\"quote\", \"\\\"\") \\\n",
    "                           .option(\"escape\", \"\\\"\") \\\n",
    "                           .option(\"multiLine\", \"true\") \\\n",
    "                           .csv(\"abfss://raw@cs2100320032141b0ad.dfs.core.windows.net/anime/*.csv\")\n",
    "\n",
    "df_resultados.createOrReplaceTempView(\"df_resultados\")"
   ]
  },
  {
   "cell_type": "code",
   "execution_count": 0,
   "metadata": {
    "application/vnd.databricks.v1+cell": {
     "cellMetadata": {
      "byteLimit": 2048000,
      "implicitDf": true,
      "rowLimit": 10000
     },
     "inputWidgets": {},
     "nuid": "c950ebac-7789-451b-94f7-690483a7ce7c",
     "showTitle": false,
     "title": ""
    }
   },
   "outputs": [],
   "source": [
    "%sql\n",
    "select *\n",
    "from df_resultados "
   ]
  }
 ],
 "metadata": {
  "application/vnd.databricks.v1+notebook": {
   "dashboards": [],
   "environmentMetadata": null,
   "language": "python",
   "notebookMetadata": {
    "mostRecentlyExecutedCommandWithImplicitDF": {
     "commandId": 2004841727440673,
     "dataframes": [
      "_sqldf"
     ]
    },
    "pythonIndentUnit": 4
   },
   "notebookName": "Exploración datos para Tableau",
   "widgets": {}
  }
 },
 "nbformat": 4,
 "nbformat_minor": 0
}
